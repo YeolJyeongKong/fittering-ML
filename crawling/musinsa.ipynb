{
 "cells": [
  {
   "cell_type": "code",
   "execution_count": 1,
   "metadata": {},
   "outputs": [],
   "source": [
    "from selenium import webdriver\n",
    "from selenium.webdriver.common.keys import Keys\n",
    "from selenium.webdriver.common.by import By"
   ]
  },
  {
   "cell_type": "code",
   "execution_count": 27,
   "metadata": {},
   "outputs": [
    {
     "name": "stderr",
     "output_type": "stream",
     "text": [
      "C:\\Users\\sinjy\\AppData\\Local\\Temp\\ipykernel_23036\\2770954972.py:1: DeprecationWarning: executable_path has been deprecated, please pass in a Service object\n",
      "  driver = webdriver.Chrome('C:/chromedriver.exe')\n"
     ]
    }
   ],
   "source": [
    "driver = webdriver.Chrome('C:/chromedriver.exe')\n",
    "driver.get('https://www.musinsa.com/app/')"
   ]
  },
  {
   "cell_type": "code",
   "execution_count": 28,
   "metadata": {},
   "outputs": [],
   "source": [
    "# category list\n",
    "a_lst = driver.find_elements(By.XPATH, '//*[@id=\"accordion2\"]/nav/div[2 <= position() and position() <= 6]/div[2]/ul/li/a')\n",
    "href_lst = list(map(lambda x: x.get_attribute('href'), a_lst))"
   ]
  },
  {
   "cell_type": "code",
   "execution_count": 34,
   "metadata": {},
   "outputs": [],
   "source": [
    "# move category & save pickle file name\n",
    "import re\n",
    "file_name = a_lst[0].get_attribute('innerText')\n",
    "pattern = r'\\([^)]*\\)'\n",
    "file_name = re.sub(pattern, '', file_name).strip()\n",
    "data = {}\n",
    "driver.get(href_lst[0])\n"
   ]
  },
  {
   "cell_type": "code",
   "execution_count": 35,
   "metadata": {},
   "outputs": [
    {
     "data": {
      "text/plain": [
       "'https://www.musinsa.com/categories/item/001006'"
      ]
     },
     "execution_count": 35,
     "metadata": {},
     "output_type": "execute_result"
    }
   ],
   "source": [
    "# 페이지 전환\n",
    "total_page = int(driver.find_element(By.CLASS_NAME, \"totalPagingNum\").get_attribute('innerText'))\n",
    "current_page = int(driver.find_element(By.CLASS_NAME, \"currentPagingNum\").get_attribute('innerText'))\n"
   ]
  },
  {
   "cell_type": "code",
   "execution_count": 15,
   "metadata": {},
   "outputs": [],
   "source": [
    "MusinsaData[a_lst[0].get_attribute('innerText')] = {}"
   ]
  },
  {
   "cell_type": "code",
   "execution_count": 24,
   "metadata": {},
   "outputs": [
    {
     "data": {
      "text/plain": [
       "'263'"
      ]
     },
     "execution_count": 24,
     "metadata": {},
     "output_type": "execute_result"
    }
   ],
   "source": [
    "driver.find_element(By.CLASS_NAME, \"totalPagingNum\").get_attribute('innerText')"
   ]
  },
  {
   "cell_type": "code",
   "execution_count": null,
   "metadata": {},
   "outputs": [],
   "source": [
    "https://www.musinsa.com/categories/item/001006?d_cat_cd=001006&brand=&list_kind=small&sort=pop_category&sub_sort=&page=263&display_cnt=90&group_sale=&exclusive_yn=&sale_goods=&timesale_yn=&ex_soldout=&plusDeliveryYn=&kids=&color=&price1=&price2=&shoeSizeOption=&tags=&campaign_id=&includeKeywords=&measure=#"
   ]
  },
  {
   "cell_type": "code",
   "execution_count": 11,
   "metadata": {},
   "outputs": [
    {
     "ename": "InvalidSelectorException",
     "evalue": "Message: invalid selector: Unable to locate an element with the xpath expression  because of the following error:\nSyntaxError: Failed to execute 'evaluate' on 'Document': The string '' is not a valid XPath expression.\n  (Session info: chrome=114.0.5735.110)\nStacktrace:\nBacktrace:\n\tGetHandleVerifier [0x01138893+48451]\n\t(No symbol) [0x010CB8A1]\n\t(No symbol) [0x00FD5058]\n\t(No symbol) [0x00FD83F1]\n\t(No symbol) [0x00FD9631]\n\t(No symbol) [0x00FD96D0]\n\t(No symbol) [0x010000C0]\n\t(No symbol) [0x0100069B]\n\t(No symbol) [0x0102DD92]\n\t(No symbol) [0x0101A304]\n\t(No symbol) [0x0102C482]\n\t(No symbol) [0x0101A0B6]\n\t(No symbol) [0x00FF7E08]\n\t(No symbol) [0x00FF8F2D]\n\tGetHandleVerifier [0x01398E3A+2540266]\n\tGetHandleVerifier [0x013D8959+2801161]\n\tGetHandleVerifier [0x013D295C+2776588]\n\tGetHandleVerifier [0x011C2280+612144]\n\t(No symbol) [0x010D4F6C]\n\t(No symbol) [0x010D11D8]\n\t(No symbol) [0x010D12BB]\n\t(No symbol) [0x010C4857]\n\tBaseThreadInitThunk [0x766000C9+25]\n\tRtlGetAppContainerNamedObjectPath [0x76F57B4E+286]\n\tRtlGetAppContainerNamedObjectPath [0x76F57B1E+238]\n",
     "output_type": "error",
     "traceback": [
      "\u001b[1;31m---------------------------------------------------------------------------\u001b[0m",
      "\u001b[1;31mInvalidSelectorException\u001b[0m                  Traceback (most recent call last)",
      "\u001b[1;32mc:\\Users\\sinjy\\VScodeProjects\\fittering-ML\\crawling\\musinsa.ipynb Cell 6\u001b[0m in \u001b[0;36m<cell line: 1>\u001b[1;34m()\u001b[0m\n\u001b[1;32m----> <a href='vscode-notebook-cell:/c%3A/Users/sinjy/VScodeProjects/fittering-ML/crawling/musinsa.ipynb#W5sZmlsZQ%3D%3D?line=0'>1</a>\u001b[0m driver\u001b[39m.\u001b[39;49mfind_element(By\u001b[39m.\u001b[39;49mXPATH, \u001b[39m'\u001b[39;49m\u001b[39m'\u001b[39;49m)\u001b[39m.\u001b[39mget_attribute(\u001b[39m'\u001b[39m\u001b[39minnerText\u001b[39m\u001b[39m'\u001b[39m)\n",
      "File \u001b[1;32mc:\\Users\\sinjy\\anaconda3\\envs\\django_38\\lib\\site-packages\\selenium\\webdriver\\remote\\webdriver.py:831\u001b[0m, in \u001b[0;36mWebDriver.find_element\u001b[1;34m(self, by, value)\u001b[0m\n\u001b[0;32m    828\u001b[0m     by \u001b[39m=\u001b[39m By\u001b[39m.\u001b[39mCSS_SELECTOR\n\u001b[0;32m    829\u001b[0m     value \u001b[39m=\u001b[39m \u001b[39mf\u001b[39m\u001b[39m'\u001b[39m\u001b[39m[name=\u001b[39m\u001b[39m\"\u001b[39m\u001b[39m{\u001b[39;00mvalue\u001b[39m}\u001b[39;00m\u001b[39m\"\u001b[39m\u001b[39m]\u001b[39m\u001b[39m'\u001b[39m\n\u001b[1;32m--> 831\u001b[0m \u001b[39mreturn\u001b[39;00m \u001b[39mself\u001b[39;49m\u001b[39m.\u001b[39;49mexecute(Command\u001b[39m.\u001b[39;49mFIND_ELEMENT, {\u001b[39m\"\u001b[39;49m\u001b[39musing\u001b[39;49m\u001b[39m\"\u001b[39;49m: by, \u001b[39m\"\u001b[39;49m\u001b[39mvalue\u001b[39;49m\u001b[39m\"\u001b[39;49m: value})[\u001b[39m\"\u001b[39m\u001b[39mvalue\u001b[39m\u001b[39m\"\u001b[39m]\n",
      "File \u001b[1;32mc:\\Users\\sinjy\\anaconda3\\envs\\django_38\\lib\\site-packages\\selenium\\webdriver\\remote\\webdriver.py:440\u001b[0m, in \u001b[0;36mWebDriver.execute\u001b[1;34m(self, driver_command, params)\u001b[0m\n\u001b[0;32m    438\u001b[0m response \u001b[39m=\u001b[39m \u001b[39mself\u001b[39m\u001b[39m.\u001b[39mcommand_executor\u001b[39m.\u001b[39mexecute(driver_command, params)\n\u001b[0;32m    439\u001b[0m \u001b[39mif\u001b[39;00m response:\n\u001b[1;32m--> 440\u001b[0m     \u001b[39mself\u001b[39;49m\u001b[39m.\u001b[39;49merror_handler\u001b[39m.\u001b[39;49mcheck_response(response)\n\u001b[0;32m    441\u001b[0m     response[\u001b[39m\"\u001b[39m\u001b[39mvalue\u001b[39m\u001b[39m\"\u001b[39m] \u001b[39m=\u001b[39m \u001b[39mself\u001b[39m\u001b[39m.\u001b[39m_unwrap_value(response\u001b[39m.\u001b[39mget(\u001b[39m\"\u001b[39m\u001b[39mvalue\u001b[39m\u001b[39m\"\u001b[39m, \u001b[39mNone\u001b[39;00m))\n\u001b[0;32m    442\u001b[0m     \u001b[39mreturn\u001b[39;00m response\n",
      "File \u001b[1;32mc:\\Users\\sinjy\\anaconda3\\envs\\django_38\\lib\\site-packages\\selenium\\webdriver\\remote\\errorhandler.py:245\u001b[0m, in \u001b[0;36mErrorHandler.check_response\u001b[1;34m(self, response)\u001b[0m\n\u001b[0;32m    243\u001b[0m         alert_text \u001b[39m=\u001b[39m value[\u001b[39m\"\u001b[39m\u001b[39malert\u001b[39m\u001b[39m\"\u001b[39m]\u001b[39m.\u001b[39mget(\u001b[39m\"\u001b[39m\u001b[39mtext\u001b[39m\u001b[39m\"\u001b[39m)\n\u001b[0;32m    244\u001b[0m     \u001b[39mraise\u001b[39;00m exception_class(message, screen, stacktrace, alert_text)  \u001b[39m# type: ignore[call-arg]  # mypy is not smart enough here\u001b[39;00m\n\u001b[1;32m--> 245\u001b[0m \u001b[39mraise\u001b[39;00m exception_class(message, screen, stacktrace)\n",
      "\u001b[1;31mInvalidSelectorException\u001b[0m: Message: invalid selector: Unable to locate an element with the xpath expression  because of the following error:\nSyntaxError: Failed to execute 'evaluate' on 'Document': The string '' is not a valid XPath expression.\n  (Session info: chrome=114.0.5735.110)\nStacktrace:\nBacktrace:\n\tGetHandleVerifier [0x01138893+48451]\n\t(No symbol) [0x010CB8A1]\n\t(No symbol) [0x00FD5058]\n\t(No symbol) [0x00FD83F1]\n\t(No symbol) [0x00FD9631]\n\t(No symbol) [0x00FD96D0]\n\t(No symbol) [0x010000C0]\n\t(No symbol) [0x0100069B]\n\t(No symbol) [0x0102DD92]\n\t(No symbol) [0x0101A304]\n\t(No symbol) [0x0102C482]\n\t(No symbol) [0x0101A0B6]\n\t(No symbol) [0x00FF7E08]\n\t(No symbol) [0x00FF8F2D]\n\tGetHandleVerifier [0x01398E3A+2540266]\n\tGetHandleVerifier [0x013D8959+2801161]\n\tGetHandleVerifier [0x013D295C+2776588]\n\tGetHandleVerifier [0x011C2280+612144]\n\t(No symbol) [0x010D4F6C]\n\t(No symbol) [0x010D11D8]\n\t(No symbol) [0x010D12BB]\n\t(No symbol) [0x010C4857]\n\tBaseThreadInitThunk [0x766000C9+25]\n\tRtlGetAppContainerNamedObjectPath [0x76F57B4E+286]\n\tRtlGetAppContainerNamedObjectPath [0x76F57B1E+238]\n"
     ]
    }
   ],
   "source": [
    "driver.find_element(By.XPATH, '').get_attribute('innerText')"
   ]
  }
 ],
 "metadata": {
  "kernelspec": {
   "display_name": "django_38",
   "language": "python",
   "name": "python3"
  },
  "language_info": {
   "codemirror_mode": {
    "name": "ipython",
    "version": 3
   },
   "file_extension": ".py",
   "mimetype": "text/x-python",
   "name": "python",
   "nbconvert_exporter": "python",
   "pygments_lexer": "ipython3",
   "version": "3.10.11"
  },
  "orig_nbformat": 4
 },
 "nbformat": 4,
 "nbformat_minor": 2
}
