{
 "cells": [
  {
   "cell_type": "code",
   "execution_count": 1,
   "metadata": {},
   "outputs": [],
   "source": [
    "import json\n",
    "import os\n",
    "import pyrootutils\n",
    "from glob import glob\n",
    "from tqdm import tqdm\n",
    "import re\n",
    "\n",
    "project_root_dir = pyrootutils.setup_root(os.path.abspath(''), indicator=\".project-root\", pythonpath=True)"
   ]
  },
  {
   "cell_type": "code",
   "execution_count": 2,
   "metadata": {},
   "outputs": [
    {
     "data": {
      "text/plain": [
       "'/home/shin/VScodeProjects/fittering-ML/data/aihub_/test/0.json'"
      ]
     },
     "execution_count": 2,
     "metadata": {},
     "output_type": "execute_result"
    }
   ],
   "source": [
    "path = '/home/shin/VScodeProjects/fittering-ML/data/aihub/test/0.json'\n",
    "re.sub(r'aihub', r'aihub_', path)"
   ]
  },
  {
   "cell_type": "code",
   "execution_count": 3,
   "metadata": {},
   "outputs": [],
   "source": [
    "def maskedpath(masked_dir, path):\n",
    "    fname = path.split('/')[-1]\n",
    "    masked_path = os.path.join(masked_dir, fname)\n",
    "    return masked_path\n",
    "\n",
    "def originalpath(path):\n",
    "    fname = path.split('/')[-1]\n",
    "    userid = fname.split('_')[2]\n",
    "    original_path_train = f'/media/shin/T7/dataset/data/train/image_csv/{userid}/Image/{fname}'\n",
    "    original_path_test = f'/media/shin/T7/dataset/data/test/image_csv/{userid}/Image/{fname}'\n",
    "    if os.path.isfile(original_path_train):\n",
    "        return original_path_train\n",
    "    elif os.path.isfile(original_path_test):\n",
    "        return original_path_test\n",
    "    else:\n",
    "        raise Exception(f'not exist {original_path_train}, {original_path_test}')"
   ]
  },
  {
   "cell_type": "code",
   "execution_count": 5,
   "metadata": {},
   "outputs": [
    {
     "name": "stderr",
     "output_type": "stream",
     "text": [
      "100%|██████████| 19316/19316 [00:20<00:00, 924.77it/s] \n"
     ]
    }
   ],
   "source": [
    "masked_dir = '/home/shin/VScodeProjects/fittering-ML/data/aihub/masked'\n",
    "\n",
    "for path in tqdm(glob(\"/home/shin/VScodeProjects/fittering-ML/data/aihub/*/*.json\")):\n",
    "    with open(path, 'r') as f:\n",
    "        json_data = json.load(f)\n",
    "\n",
    "    front_path = json_data['input']['front']\n",
    "    side_path = json_data['input']['side']\n",
    "\n",
    "    json_data['input']['front'] = maskedpath(masked_dir, front_path)\n",
    "    json_data['input']['side'] = maskedpath(masked_dir, side_path)\n",
    "\n",
    "    json_data['original_front_path'] = originalpath(front_path)\n",
    "    json_data['original_side_path'] = originalpath(side_path)\n",
    "\n",
    "    # save_path = re.sub(r'aihub', r'aihub_', path)\n",
    "\n",
    "    with open(path, 'w') as f:\n",
    "        json.dump(json_data, f)"
   ]
  }
 ],
 "metadata": {
  "kernelspec": {
   "display_name": "fittering-measurements",
   "language": "python",
   "name": "python3"
  },
  "language_info": {
   "codemirror_mode": {
    "name": "ipython",
    "version": 3
   },
   "file_extension": ".py",
   "mimetype": "text/x-python",
   "name": "python",
   "nbconvert_exporter": "python",
   "pygments_lexer": "ipython3",
   "version": "3.8.16"
  },
  "orig_nbformat": 4
 },
 "nbformat": 4,
 "nbformat_minor": 2
}
